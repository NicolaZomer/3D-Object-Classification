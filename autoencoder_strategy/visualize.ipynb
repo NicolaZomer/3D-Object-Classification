{
 "cells": [
  {
   "cell_type": "code",
   "execution_count": 6,
   "metadata": {},
   "outputs": [],
   "source": [
    "import numpy as np\n",
    "import open3d as o3d\n",
    "import matplotlib.pyplot as plt\n",
    "import seaborn as sns\n",
    "import pandas as pd\n",
    "import sys\n",
    "sys.path.append('../')\n",
    "from dataset.PointCloudDataset import PointCloudDataset\n",
    "from dataset.voxelDataset import VoxelDataset\n",
    "\n",
    "import os, glob\n",
    "\n",
    "import torch\n",
    "import torch.nn as nn\n",
    "import torch.nn.functional as F"
   ]
  },
  {
   "cell_type": "code",
   "execution_count": 7,
   "metadata": {},
   "outputs": [
    {
     "name": "stdout",
     "output_type": "stream",
     "text": [
      "Loaded 4000 point clouds from 40 classes\n"
     ]
    }
   ],
   "source": [
    "dataset_train  = PointCloudDataset('../dataset/modelnet40_normal_resampled', \n",
    "                                                train=True, \n",
    "                                                ndata=4000,\n",
    "                                                file_extension='.txt', \n",
    "                                                npoints=4000\n",
    "                                            )"
   ]
  },
  {
   "cell_type": "code",
   "execution_count": 8,
   "metadata": {},
   "outputs": [],
   "source": [
    "data = dataset_train[0]"
   ]
  },
  {
   "cell_type": "code",
   "execution_count": 9,
   "metadata": {},
   "outputs": [
    {
     "name": "stdout",
     "output_type": "stream",
     "text": [
      "Loading model from ../checkpoints/foldingnet/model_128.pth\n"
     ]
    }
   ],
   "source": [
    "\n",
    "DEVICE = 'cpu'\n",
    "from FoldingNet import FoldNet, Encoder, Decoder\n",
    "checkpoints_path = '../checkpoints/foldingnet'\n",
    "model = FoldNet(num_points=4000).to(DEVICE)\n",
    "\n",
    "# load model if exists\n",
    "models_saved = glob.glob(os.path.join(checkpoints_path, 'model_*.pth'))\n",
    "if len(models_saved) > 0:\n",
    "    # get most recent model\n",
    "    epoches_done = max([int(m.split('_')[-1].split('.')[0]) for m in models_saved])\n",
    "    model_path = os.path.join(checkpoints_path, f'model_{epoches_done}.pth')\n",
    "    print(f\"Loading model from {model_path}\")\n",
    "    model.load_state_dict(torch.load(model_path))"
   ]
  },
  {
   "cell_type": "code",
   "execution_count": 10,
   "metadata": {},
   "outputs": [],
   "source": [
    "point_cloud, label = data\n",
    "\n",
    "point_cloud = point_cloud.unsqueeze(0)\n",
    "point_cloud = point_cloud.to(DEVICE)\n",
    "\n",
    "decoded, encoded = model(point_cloud)\n",
    "decoded = decoded.squeeze(0).detach().cpu().numpy()\n",
    "point_cloud = point_cloud.squeeze(0).detach().cpu().numpy()"
   ]
  },
  {
   "cell_type": "code",
   "execution_count": 12,
   "metadata": {},
   "outputs": [
    {
     "ename": "",
     "evalue": "",
     "output_type": "error",
     "traceback": [
      "\u001b[1;31mThe Kernel crashed while executing code in the the current cell or a previous cell. Please review the code in the cell(s) to identify a possible cause of the failure. Click <a href='https://aka.ms/vscodeJupyterKernelCrash'>here</a> for more info. View Jupyter <a href='command:jupyter.viewOutput'>log</a> for further details."
     ]
    }
   ],
   "source": [
    "#open3d visualization\n",
    "\n",
    "pcd = o3d.geometry.PointCloud()\n",
    "pcd.points = o3d.utility.Vector3dVector(point_cloud)\n",
    "o3d.visualization.draw_geometries([pcd])\n",
    "\n",
    "pcd_dec = o3d.geometry.PointCloud()\n",
    "pcd_dec.points = o3d.utility.Vector3dVector(decoded)\n",
    "o3d.visualization.draw_geometries([pcd_dec])\n"
   ]
  },
  {
   "cell_type": "code",
   "execution_count": null,
   "metadata": {},
   "outputs": [],
   "source": []
  }
 ],
 "metadata": {
  "kernelspec": {
   "display_name": "Python 3",
   "language": "python",
   "name": "python3"
  },
  "language_info": {
   "codemirror_mode": {
    "name": "ipython",
    "version": 3
   },
   "file_extension": ".py",
   "mimetype": "text/x-python",
   "name": "python",
   "nbconvert_exporter": "python",
   "pygments_lexer": "ipython3",
   "version": "3.9.13"
  },
  "orig_nbformat": 4,
  "vscode": {
   "interpreter": {
    "hash": "aee8b7b246df8f9039afb4144a1f6fd8d2ca17a180786b69acc140d282b71a49"
   }
  }
 },
 "nbformat": 4,
 "nbformat_minor": 2
}
