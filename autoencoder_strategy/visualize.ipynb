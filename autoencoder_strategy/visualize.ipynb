{
 "cells": [
  {
   "cell_type": "code",
   "execution_count": 1,
   "metadata": {},
   "outputs": [],
   "source": [
    "import numpy as np\n",
    "import open3d as o3d\n",
    "import matplotlib.pyplot as plt\n",
    "import seaborn as sns\n",
    "import pandas as pd\n",
    "import sys\n",
    "sys.path.append('../')\n",
    "from dataset.PointCloudDataset import PointCloudDataset\n",
    "from dataset.voxelDataset import VoxelDataset\n",
    "\n",
    "import os, glob\n",
    "\n",
    "import torch\n",
    "import torch.nn as nn\n",
    "import torch.nn.functional as F"
   ]
  },
  {
   "cell_type": "code",
   "execution_count": 2,
   "metadata": {},
   "outputs": [
    {
     "name": "stdout",
     "output_type": "stream",
     "text": [
      "Loaded 4000 point clouds from 40 classes\n"
     ]
    }
   ],
   "source": [
    "dataset_train  = PointCloudDataset('../dataset/modelnet40_normal_resampled', \n",
    "                                                train=True, \n",
    "                                                ndata=4000,\n",
    "                                                file_extension='.txt', \n",
    "                                                npoints=4000\n",
    "                                            )"
   ]
  },
  {
   "cell_type": "code",
   "execution_count": 3,
   "metadata": {},
   "outputs": [],
   "source": [
    "data = dataset_train[100]"
   ]
  },
  {
   "cell_type": "code",
   "execution_count": 4,
   "metadata": {},
   "outputs": [
    {
     "name": "stdout",
     "output_type": "stream",
     "text": [
      "Loading model from ../checkpoints/foldingnet/model_128.pth\n"
     ]
    }
   ],
   "source": [
    "\n",
    "DEVICE = 'cpu'\n",
    "from FoldingNet import FoldNet, Encoder, Decoder\n",
    "checkpoints_path = '../checkpoints/foldingnet'\n",
    "model = FoldNet(num_points=4000).to(DEVICE)\n",
    "\n",
    "# load model if exists\n",
    "models_saved = glob.glob(os.path.join(checkpoints_path, 'model_*.pth'))\n",
    "if len(models_saved) > 0:\n",
    "    # get most recent model\n",
    "    epoches_done = max([int(m.split('_')[-1].split('.')[0]) for m in models_saved])\n",
    "    model_path = os.path.join(checkpoints_path, f'model_{epoches_done}.pth')\n",
    "    print(f\"Loading model from {model_path}\")\n",
    "    model.load_state_dict(torch.load(model_path))"
   ]
  },
  {
   "cell_type": "code",
   "execution_count": 5,
   "metadata": {},
   "outputs": [],
   "source": [
    "point_cloud, label = data\n",
    "\n",
    "point_cloud = point_cloud.unsqueeze(0)\n",
    "point_cloud = point_cloud.to(DEVICE)\n",
    "\n",
    "decoded, encoded = model(point_cloud)\n",
    "decoded = decoded.squeeze(0).detach().cpu().numpy()\n",
    "point_cloud = point_cloud.squeeze(0).detach().cpu().numpy()"
   ]
  },
  {
   "cell_type": "code",
   "execution_count": 6,
   "metadata": {},
   "outputs": [],
   "source": [
    "#open3d visualization\n",
    "\n",
    "pcd = o3d.geometry.PointCloud()\n",
    "pcd.points = o3d.utility.Vector3dVector(point_cloud)\n",
    "o3d.visualization.draw_geometries([pcd])\n",
    "\n",
    "pcd_dec = o3d.geometry.PointCloud()\n",
    "pcd_dec.points = o3d.utility.Vector3dVector(decoded)\n",
    "o3d.visualization.draw_geometries([pcd_dec])\n"
   ]
  },
  {
   "cell_type": "code",
   "execution_count": 7,
   "metadata": {},
   "outputs": [
    {
     "data": {
      "text/plain": [
       "tensor([[[-0.9603, -0.8074, -0.8323, -0.7691, -0.9854, -1.5732, -4.5183,\n",
       "          -1.9784, -1.0632, -1.4052, -1.2694, -1.3722, -0.9359,  0.6353,\n",
       "          -1.1027, -0.8134, -1.4012, -0.8539, -0.7609, -0.6760, -1.0719,\n",
       "          -0.9875, -1.7166, -1.0708, -1.2411, -5.1059, -1.2581,  0.1480,\n",
       "          -1.0721, -0.8017, -4.3857, -0.6380, -2.7391, -0.6922, -1.0916,\n",
       "           2.8229, -1.0732, -0.3348, -1.0832, -0.8765, -1.4754, -1.1050,\n",
       "          -3.8197, -0.9713, -0.6346, -0.9617, -0.7422, -3.5060, -1.5161,\n",
       "          -0.6795, -1.1383,  1.0674, -0.7972, -1.0096, -0.7001, -0.7931,\n",
       "          -3.1221,  0.1971, -1.0155, -0.9073, -1.4636, -0.6644, -1.0021,\n",
       "          -0.8622, -1.0256, -1.4149,  1.5893, -1.9305, -0.7153, -0.6993,\n",
       "          -1.1638,  0.7146, -0.8357, -1.0906, -1.5302, -1.1276, -1.6135,\n",
       "          -0.7302, -0.9347, -0.7920, -1.2726, -1.1220, -0.9697, -4.1041,\n",
       "          -1.9554, -0.5351, -1.1530, -0.7373, -1.0007, -1.1521, -0.8152,\n",
       "          -1.1131,  2.3102, -0.8226, -0.7165, -0.9440, -1.3479, -3.0065,\n",
       "          -1.1577, -0.1219, -1.1877, -0.8637, -1.2034, -0.4285, -0.4487,\n",
       "          -0.6305, -0.9893, -0.9635, -1.2793, -0.9609, -0.8929, -1.1352,\n",
       "          -2.3168,  1.6118, -1.0657, -0.9431, -3.4536, -0.8531, -1.0601,\n",
       "          -1.0027, -1.3038, -0.7333, -1.3998, -0.8045, -0.7741, -3.5152,\n",
       "          -1.4168,  3.1795, -0.9560, -1.2425, -1.4401, -0.7938, -0.8892,\n",
       "          -0.9518, -0.7087, -0.5689, -1.0215, -1.1509, -0.8541, -0.8951,\n",
       "          -0.9542, -1.3361, -3.3859, -0.7902, -1.2133, -0.9213, -0.8213,\n",
       "          -1.6470, -1.1706, -2.4385, -0.7724, -1.4859, -0.7696, -0.8892,\n",
       "          -1.1953, -0.4777, -1.1636, -0.8465, -0.8239, -1.1701, -0.7040,\n",
       "          -0.1197, -1.4047, -2.0647,  0.2787, -0.9663, -1.6546, -1.1388,\n",
       "          -0.8636, -0.7573, -0.9107, -0.8880, -1.2438, -5.1984, -1.1269,\n",
       "          -1.2450, -6.0743, -0.9430, -1.1260,  0.0565, -1.1111, -1.3124,\n",
       "          -1.3704, -0.9999, -1.1861, -0.5620, -0.9758, -1.1057, -0.9247,\n",
       "          -1.2951, -1.0986, -1.6405, -0.9071, -0.8536, -0.9549, -0.6012,\n",
       "          -0.4359, -2.5233, -0.8083, -1.4868, -0.8492, -1.5651, -2.2105,\n",
       "          -0.7221, -1.0523, -0.9823, -0.7216, -0.9395, -0.6969, -1.6578,\n",
       "          -0.3691, -0.7346, -1.0141, -1.1916, -0.8057, -0.7752,  0.9070,\n",
       "          -1.0517, -1.8870,  1.3829, -0.9837, -0.8279, -1.1382, -1.2177,\n",
       "          -1.0750, -1.0939, -0.6552, -1.1147, -0.9733, -1.1703, -0.8260,\n",
       "          -1.7235, -0.9221, -3.9081, -1.1946, -1.0367, -0.7955,  3.8358,\n",
       "          -1.4213, -1.3478, -1.3612, -0.7321, -0.8667, -3.9251, -1.3614,\n",
       "          -0.7859, -1.0374, -2.8549, -1.0460,  0.7801, -0.6227, -0.9520,\n",
       "          -0.9385, -1.1410, -0.9292, -1.0796, -1.7369, -1.0509, -0.8348,\n",
       "          -1.9141, -0.7771, -3.8567, -1.1118, -0.5680, -0.8568,  1.1743,\n",
       "          -0.7606, -0.8188, -0.8392, -4.4987, -0.8504, -0.8442, -3.8083,\n",
       "          -0.9504, -0.8746, -2.2563, -0.9863, -1.0596, -0.8717, -1.2326,\n",
       "          -0.7253, -0.8615, -0.6903, -1.1235,  1.7242, -1.3097, -0.8163,\n",
       "          -0.8480, -1.1251, -0.8886, -0.1463, -1.1635, -1.2608, -4.0501,\n",
       "          -0.7827, -1.0809, -1.2063, -1.0910, -3.1746, -0.6339, -0.6006,\n",
       "          -1.2781, -1.1487, -1.1120, -1.2115, -3.7780, -0.9771, -0.8839,\n",
       "          -1.0566, -0.9427, -0.9862, -0.0265, -0.8415, -1.2981, -0.9914,\n",
       "          -0.8437, -1.1177, -1.0895, -0.8412, -1.2575, -1.9124, -1.4415,\n",
       "          -1.0527, -1.1370, -1.0854, -1.1667, -1.1076, -0.8534, -1.3341,\n",
       "          -1.1877, -0.9357, -0.8367, -0.8501, -0.8828, -1.7037, -0.7899,\n",
       "          -0.7523, -0.8438, -1.0120, -1.1287,  1.8084, -0.6764, -0.7394,\n",
       "          -0.9518, -1.1527, -0.9129, -0.7540, -0.8283, -0.7521, -1.7743,\n",
       "          -4.2507, -1.1223, -1.2964, -0.6204, -0.5367, -3.3560, -1.0410,\n",
       "          -1.0335,  0.4715, -3.7128, -0.7345, -0.8295, -3.9418, -0.8572,\n",
       "          -2.1992,  0.9538,  1.4100, -0.9516, -1.5760, -2.1971, -0.9072,\n",
       "          -0.4219, -1.8914, -1.7984, -0.9475,  0.2298, -1.2351, -0.6624,\n",
       "          -2.0062, -1.2027,  1.1239,  0.6602, -0.7355,  0.1617, -0.7423,\n",
       "          -0.9063, -0.8474, -1.6234, -1.0480, -1.1740, -1.4203, -3.9603,\n",
       "          -0.7462, -1.3441, -0.8715, -0.9737, -1.1821, -0.9627, -1.1225,\n",
       "          -0.9251, -1.0370, -0.1236, -1.2886, -0.7695, -2.4827, -0.8106,\n",
       "          -0.7943, -4.0617, -1.1086, -1.0387, -0.9827, -1.3063, -2.5939,\n",
       "          -1.4532, -1.0085, -0.6718, -1.4885, -0.8706, -0.8424, -0.5492,\n",
       "          -1.0841, -0.8298, -1.8251,  2.0694, -0.9490, -1.0857, -1.5042,\n",
       "          -3.0162, -0.9711,  0.3321, -0.9563, -1.0018, -0.2401, -1.2184,\n",
       "          -1.1148, -1.0225, -4.3556, -0.9654, -0.1019, -1.0776, -1.2283,\n",
       "          -1.3269, -1.4165, -1.6103, -2.2884, -1.2897, -0.8945, -2.5535,\n",
       "          -1.1129, -1.1659,  0.0706, -1.0777, -1.2571, -0.9291, -1.1286,\n",
       "          -0.7425, -1.0346, -1.1005, -2.4313,  0.9636,  1.4960, -0.8204,\n",
       "          -0.4806, -0.9604, -1.6015, -1.4585, -1.0356, -0.9144, -1.2565,\n",
       "          -0.8842, -0.2296, -3.1886, -0.9410, -3.3948,  1.4596, -3.0559,\n",
       "          -3.5604, -0.8850, -0.6408, -1.3036, -0.8965, -1.3572, -1.1209,\n",
       "          -0.9584, -0.8591, -0.7919, -0.8107, -0.8095, -2.3487, -1.0026,\n",
       "          -0.8367, -1.0332, -1.2789, -2.8270, -0.8172, -1.0620, -0.9539,\n",
       "          -2.5829, -0.6436, -0.9635, -1.2886, -1.1975, -1.1496, -1.5118,\n",
       "          -2.9766, -0.5636, -0.8102, -0.7208, -1.3283, -0.8168, -0.9174,\n",
       "          -1.0417]]], grad_fn=<MaxBackward0>)"
      ]
     },
     "execution_count": 7,
     "metadata": {},
     "output_type": "execute_result"
    },
    {
     "ename": "",
     "evalue": "",
     "output_type": "error",
     "traceback": [
      "\u001b[1;31mThe Kernel crashed while executing code in the the current cell or a previous cell. Please review the code in the cell(s) to identify a possible cause of the failure. Click <a href='https://aka.ms/vscodeJupyterKernelCrash'>here</a> for more info. View Jupyter <a href='command:jupyter.viewOutput'>log</a> for further details."
     ]
    }
   ],
   "source": [
    "encoded"
   ]
  },
  {
   "cell_type": "code",
   "execution_count": null,
   "metadata": {},
   "outputs": [],
   "source": []
  }
 ],
 "metadata": {
  "kernelspec": {
   "display_name": "Python 3",
   "language": "python",
   "name": "python3"
  },
  "language_info": {
   "codemirror_mode": {
    "name": "ipython",
    "version": 3
   },
   "file_extension": ".py",
   "mimetype": "text/x-python",
   "name": "python",
   "nbconvert_exporter": "python",
   "pygments_lexer": "ipython3",
   "version": "3.9.13"
  },
  "orig_nbformat": 4,
  "vscode": {
   "interpreter": {
    "hash": "aee8b7b246df8f9039afb4144a1f6fd8d2ca17a180786b69acc140d282b71a49"
   }
  }
 },
 "nbformat": 4,
 "nbformat_minor": 2
}
